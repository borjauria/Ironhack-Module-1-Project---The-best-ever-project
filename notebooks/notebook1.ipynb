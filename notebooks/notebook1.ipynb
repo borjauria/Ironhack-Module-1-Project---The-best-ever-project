{
 "cells": [
  {
   "cell_type": "markdown",
   "metadata": {},
   "source": [
    "# Stage 1 - Data Cleaning and Manipulation with Pandas\n",
    "\n",
    "For this stage, you will start with this messy dataset Forbes Billionaires 2018. You will need to import it, use your data cleaning skills to clean it up, prepare it to be analyzed, and then export it as a clean CSV data file. Here `http://potacho.com/files/ironhack/<your-kaggle-name>.db` you may find the `.db` file with the raw dataset. \n",
    "\n",
    "Deliverables:\n",
    "- Produce at least one Jupyter Notebook that shows the steps you took and the code you used to acquire, wrangle (clean and transform), analyze and report your data.\n",
    "- Produce at least one processed data file (any format) that you will use in upcoming stages.\n",
    "\n",
    "Suggested tools: pandas, pathlib, sqlalchemy, matplotlib, seaborn, plotly"
   ]
  },
  {
   "cell_type": "code",
   "execution_count": 1,
   "metadata": {},
   "outputs": [],
   "source": [
    "#Import pandas and sqlite3\n",
    "import pandas as pd\n",
    "import numpy as np\n",
    "import sqlite3\n",
    "import re\n",
    "import os\n",
    "import matplotlib.pyplot as plt"
   ]
  },
  {
   "cell_type": "code",
   "execution_count": 2,
   "metadata": {},
   "outputs": [],
   "source": [
    "#Create a conection to bbdd throught SQLite\n",
    "conex = sqlite3.connect(\"/Users/borjauria/IRONHACK/Ironhack-Module-1-Project---The-best-ever-project/data/raw/borjauria.db\")\n",
    "\n",
    "#Extracts the query data directly to a DataFrame\n",
    "personal_info = pd.read_sql_query(\"SELECT * from personal_info\", conex)\n",
    "business_info = pd.read_sql_query(\"SELECT * from business_info\", conex)\n",
    "rank_info = pd.read_sql_query(\"SELECT * from rank_info\", conex)"
   ]
  },
  {
   "cell_type": "code",
   "execution_count": 3,
   "metadata": {},
   "outputs": [],
   "source": [
    "#Preview of data\n",
    "df_outer = pd.merge(personal_info, business_info, on='id', how='outer')\n",
    "df = pd.merge(df_outer, rank_info, on='id', how='outer')"
   ]
  },
  {
   "cell_type": "code",
   "execution_count": 4,
   "metadata": {},
   "outputs": [],
   "source": [
    "#I change the name of the rows to know\n",
    "df.rename(columns={'lastName':'Last Name', 'age': 'Age', 'Unnamed: 0': 'Unnamed', 'gender': 'Gender', 'country': 'From', 'image': 'Photo', 'name': 'Name'}, inplace=True)"
   ]
  },
  {
   "cell_type": "code",
   "execution_count": 5,
   "metadata": {},
   "outputs": [],
   "source": [
    "# Replace Values\n",
    "df['Age'] = df['Age'].str.replace(r\"[a-zA-Z]+\",'')\n",
    "df['From'] = df['From'].str.replace(r\"USA|USA\",'United States')\n",
    "df['Name'] = df['Name'].str.replace(r\"( \\S+)\",'')\n",
    "df['Gender'] = df['Gender'].str.replace(r\"[M]\",'Male')\n",
    "df['Gender'] = df['Gender'].str.replace(r\"Maleale\",'Male')\n",
    "df['Gender'] = df['Gender'].str.replace(r\"(^F$)\",'Female')\n",
    "df['worth'] = df['worth'].str.replace(r\"[a-zA-Z]+\",'')\n",
    "df['worthChange'] = df['worthChange'].str.replace(r\"[a-zA-Z]+\",'')"
   ]
  },
  {
   "cell_type": "code",
   "execution_count": 6,
   "metadata": {},
   "outputs": [],
   "source": [
    "# Convert all inside of \"Last Name\" in lowercase.\n",
    "df['Last Name'] = df['Last Name'].str.capitalize()"
   ]
  },
  {
   "cell_type": "code",
   "execution_count": 7,
   "metadata": {},
   "outputs": [],
   "source": [
    "df.rename(columns={'Unnamed: 0': 'Unnamed', 'Source': 'Source & company', 'worthChange': 'Worth Change', 'realTimeWorth': 'Real Time Worth', 'realTimePosition': 'Real Time Position'}, inplace=True)"
   ]
  },
  {
   "cell_type": "code",
   "execution_count": 8,
   "metadata": {},
   "outputs": [],
   "source": [
    "# I create a new data frame without 'Real Time Worth column, Unnamed: 0_x, Unnamed: 0_y, Unnamed'.\n",
    "df = df.drop('Real Time Worth', 1)\n",
    "df = df.drop('Unnamed: 0_x', 1)\n",
    "df = df.drop('Unnamed: 0_y', 1)\n",
    "df = df.drop('Unnamed', 1)"
   ]
  },
  {
   "cell_type": "code",
   "execution_count": 9,
   "metadata": {},
   "outputs": [],
   "source": [
    "#New data frame with split value columns from Source & Company\n",
    "df[['Industry','Company']] = df[\"Source & company\"].str.split(\"==> \",expand=True)"
   ]
  },
  {
   "cell_type": "code",
   "execution_count": 10,
   "metadata": {},
   "outputs": [],
   "source": [
    "#New data frame without the 'Source & company' column.\n",
    "df = df.drop('Source & company', 1)"
   ]
  },
  {
   "cell_type": "code",
   "execution_count": 11,
   "metadata": {},
   "outputs": [],
   "source": [
    "df['Name'] = df['Name'].str.capitalize()"
   ]
  },
  {
   "cell_type": "code",
   "execution_count": 12,
   "metadata": {},
   "outputs": [],
   "source": [
    "df['Last Name'].fillna('none', inplace=True)\n",
    "df['Gender'].fillna('', inplace=True)\n",
    "df['From'].fillna('none', inplace=True)\n",
    "df['Photo'].fillna('none', inplace=True)\n",
    "df['worth'].fillna('none', inplace=True)\n",
    "df['Worth Change'].fillna('none', inplace=True)\n",
    "df['Real Time Position'].fillna('none', inplace=True)\n",
    "df['position'].fillna('none', inplace=True)\n",
    "df['Industry'].fillna('none', inplace=True)\n",
    "df['Company'].fillna('none', inplace=True)"
   ]
  },
  {
   "cell_type": "code",
   "execution_count": 13,
   "metadata": {},
   "outputs": [],
   "source": [
    "# Here I change the type of the data\n",
    "df['Age'].replace(to_replace='None',value=-9999, inplace=True)\n",
    "df['Gender'].replace(to_replace='None', inplace=True)\n",
    "df['From'].replace(to_replace='None', inplace=True)\n",
    "df['Age'].fillna(-9999, inplace=True)\n",
    "df = df.astype({'Age':int})\n",
    "df.loc[df['Age']> 100, 'Age'] = 2018 - df['Age']"
   ]
  },
  {
   "cell_type": "code",
   "execution_count": 14,
   "metadata": {},
   "outputs": [],
   "source": [
    "df['Gender'].replace('', np.nan, inplace=True)\n",
    "df['From'].replace('', np.nan, inplace=True)"
   ]
  },
  {
   "cell_type": "code",
   "execution_count": 15,
   "metadata": {},
   "outputs": [],
   "source": [
    "df = df.dropna()"
   ]
  },
  {
   "cell_type": "code",
   "execution_count": 16,
   "metadata": {},
   "outputs": [],
   "source": [
    "df['Name'] = df['Name'] +' '+ df['Last Name']"
   ]
  },
  {
   "cell_type": "code",
   "execution_count": 17,
   "metadata": {},
   "outputs": [],
   "source": [
    "df = df[['id','Name','Age','Gender','From', 'Industry','Company','worth','Worth Change','Real Time Position','Photo']]"
   ]
  },
  {
   "cell_type": "code",
   "execution_count": 18,
   "metadata": {},
   "outputs": [],
   "source": [
    "# Saving the dataframe \n",
    "df.to_csv(r'/Users/borjauria/IRONHACK/Ironhack-Module-1-Project---The-best-ever-project/data/processed/borjauria_done.csv', index=False) "
   ]
  },
  {
   "cell_type": "code",
   "execution_count": null,
   "metadata": {},
   "outputs": [],
   "source": []
  }
 ],
 "metadata": {
  "kernelspec": {
   "display_name": "Python 3",
   "language": "python",
   "name": "python3"
  },
  "language_info": {
   "codemirror_mode": {
    "name": "ipython",
    "version": 3
   },
   "file_extension": ".py",
   "mimetype": "text/x-python",
   "name": "python",
   "nbconvert_exporter": "python",
   "pygments_lexer": "ipython3",
   "version": "3.7.5"
  }
 },
 "nbformat": 4,
 "nbformat_minor": 2
}
