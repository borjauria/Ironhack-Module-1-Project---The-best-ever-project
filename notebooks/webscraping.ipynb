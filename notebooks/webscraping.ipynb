{
 "cells": [
  {
   "cell_type": "code",
   "execution_count": null,
   "metadata": {},
   "outputs": [],
   "source": [
    "import requests\n",
    "import pandas as pd\n",
    "from bs4 import BeautifulSoup\n",
    "\n",
    "def webscraping(df):\n",
    "    URL = 'https://stats.areppim.com/listes/list_billionairesx19xwor.htm'\n",
    "    web_text = requests.get(URL).text\n",
    "    soup = BeautifulSoup(web_text, 'lxml')\n",
    "    our_table = soup.find_all('div', class_ = 'overflowtable')\n",
    "    billionaires2 = str(our_table)\n",
    "    billionaires_split = billionaires2.split('</tr><tr>')\n",
    "    new_billionaires = billionaires_split[1].rstrip('</td>').lstrip('<td>').split('</td><td>')\n",
    "    new_billionaires_clean = []\n",
    "    \n",
    "    for item in billionaires_split:\n",
    "        new_billionaires_clean.append(item.rstrip('</td>').lstrip('<td>').split('</td><td>'))\n",
    "\n",
    "    cols = ['Rank', 'Name', 'Total net worth $US Billion', 'YTD change $US', 'YTD change %', 'Country', 'Industry']\n",
    "    df = pd.DataFrame(new_billionaires_clean, columns=cols)\n",
    "    final_df2 = df.drop([0,501,502,503],axis=0)\n",
    "\n",
    "    # Import the Clean_Forbes.csv\n",
    "    df_the_richests_people = pd.read_csv(\"/../../processed/borjauria_done.csv\")\n",
    "\n",
    "    #Merge the two dataframes (Forbes and webscrapping)\n",
    "    df_final = pd.merge(df_the_richests_people, final_df2, on='Name', how='left')\n",
    "    df_final = df_final[['Real Time Position','Name','Age','Industry_x','From','Company','worth','Worth Change']]\n",
    "    df_final.rename(columns={'Industry_x':'Industry'}, inplace=True)\n",
    "\n",
    "    # Saving the dataframe\n",
    "    df = df_final.to_csv('/../../borjauria_final_clean.csv', index=False)\n",
    "    return df"
   ]
  }
 ],
 "metadata": {
  "kernelspec": {
   "display_name": "ironhack_env",
   "language": "python",
   "name": "ironhack_env"
  },
  "language_info": {
   "codemirror_mode": {
    "name": "ipython",
    "version": 3
   },
   "file_extension": ".py",
   "mimetype": "text/x-python",
   "name": "python",
   "nbconvert_exporter": "python",
   "pygments_lexer": "ipython3",
   "version": "3.7.5"
  }
 },
 "nbformat": 4,
 "nbformat_minor": 2
}
