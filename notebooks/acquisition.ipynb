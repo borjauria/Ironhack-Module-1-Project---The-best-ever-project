{
 "cells": [
  {
   "cell_type": "code",
   "execution_count": null,
   "metadata": {},
   "outputs": [],
   "source": [
    "#The first of all things we have to do, is import the databases we're going to clean\n",
    "import sqlite3\n",
    "import pandas as pd\n",
    "\n",
    "def acquisition():\n",
    "    #Create a conection to bbdd throught SQLite\n",
    "    conex = sqlite3.connect(\"/Users/borjauria/IRONHACK/Ironhack-Module-1-Project---The-best-ever-project/data/raw/borjauria.db\")\n",
    "    #Extracts the query data directly to a DataFrame\n",
    "    personal_info = pd.read_sql_query(\"SELECT * from personal_info\", conex)\n",
    "    business_info = pd.read_sql_query(\"SELECT * from business_info\", conex)\n",
    "    rank_info = pd.read_sql_query(\"SELECT * from rank_info\", conex)\n",
    "    df_outer = pd.merge(personal_info, business_info, on='id', how='outer')\n",
    "    df = pd.merge(df_outer, rank_info, on='id', how='outer')\n",
    "    return df.to_csv(file)\n",
    "\n",
    "    return df"
   ]
  }
 ],
 "metadata": {
  "kernelspec": {
   "display_name": "Python 3",
   "language": "python",
   "name": "python3"
  },
  "language_info": {
   "codemirror_mode": {
    "name": "ipython",
    "version": 3
   },
   "file_extension": ".py",
   "mimetype": "text/x-python",
   "name": "python",
   "nbconvert_exporter": "python",
   "pygments_lexer": "ipython3",
   "version": "3.7.5"
  }
 },
 "nbformat": 4,
 "nbformat_minor": 2
}
