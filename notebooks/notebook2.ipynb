{
 "cells": [
  {
   "cell_type": "markdown",
   "metadata": {},
   "source": [
    "# Stage 2 - API and Web Data Scraping\n",
    "\n",
    "For this stage, you will practice what you have learned in the APIs and Web Scraping lectures. The idea is to improve your dataset with at least one additional feature.\n",
    "\n",
    "Deliverables:\n",
    "- Produce at least one Jupyter Notebook that shows the steps you took and the code you used to acquire and process the new data that you will \"merge\" with Stage 1 output dataset. Keep in mind that new data must be relevant for your reporting and conclusions. \n",
    "\n",
    "Suggested tools: pandas, pathlib, requests, bs4, dotenv, selenium"
   ]
  },
  {
   "cell_type": "code",
   "execution_count": 1,
   "metadata": {},
   "outputs": [],
   "source": [
    "import requests\n",
    "import pandas as pd\n",
    "from bs4 import BeautifulSoup\n",
    "from urllib.request import urlopen\n",
    "import lxml.html as lh\n",
    "import matplotlib.pyplot as plt"
   ]
  },
  {
   "cell_type": "code",
   "execution_count": 2,
   "metadata": {},
   "outputs": [],
   "source": [
    "#url = 'https://www.bloomberg.com/billionaires/'\n",
    "#url = 'https://stats.areppim.com/listes/list_billionairesx19xwor.htm'\n",
    "#url = 'https://www.thetimes.co.uk/article/sunday-times-rich-list-cbxfbprqf'"
   ]
  },
  {
   "cell_type": "code",
   "execution_count": 3,
   "metadata": {},
   "outputs": [],
   "source": [
    "URL = \"https://stats.areppim.com/listes/list_billionairesx19xwor.htm\"\n",
    "web_text = requests.get(URL).text\n",
    "soup = BeautifulSoup(web_text, 'lxml')\n",
    "our_table = soup.find_all('div', class_= 'overflowtable')"
   ]
  },
  {
   "cell_type": "code",
   "execution_count": 4,
   "metadata": {},
   "outputs": [],
   "source": [
    "billionaires2 = str(our_table)"
   ]
  },
  {
   "cell_type": "code",
   "execution_count": 5,
   "metadata": {},
   "outputs": [],
   "source": [
    "billionaires_split = billionaires2.split('</tr><tr>')"
   ]
  },
  {
   "cell_type": "code",
   "execution_count": 6,
   "metadata": {},
   "outputs": [],
   "source": [
    "new_billionaires = billionaires_split[1].rstrip('</td>').lstrip('<td>').split('</td><td>')"
   ]
  },
  {
   "cell_type": "code",
   "execution_count": 7,
   "metadata": {},
   "outputs": [],
   "source": [
    "new_billionaires_clean = []\n",
    "\n",
    "for item in billionaires_split:\n",
    "    new_billionaires_clean.append(item.rstrip('</td>').lstrip('<td>').split('</td><td>'))"
   ]
  },
  {
   "cell_type": "code",
   "execution_count": 8,
   "metadata": {},
   "outputs": [],
   "source": [
    "cols = ['Rank','Name','Total net worth $US Billion','YTD change $US','YTD change %','Country','Industry']"
   ]
  },
  {
   "cell_type": "code",
   "execution_count": 9,
   "metadata": {},
   "outputs": [],
   "source": [
    "df = pd.DataFrame(new_billionaires_clean, columns=cols)"
   ]
  },
  {
   "cell_type": "code",
   "execution_count": 10,
   "metadata": {},
   "outputs": [],
   "source": [
    "final_df2 = df.drop([0,501,502,503],axis=0)"
   ]
  },
  {
   "cell_type": "code",
   "execution_count": 11,
   "metadata": {},
   "outputs": [],
   "source": [
    "# Import the Clean_Forbes.csv\n",
    "df_the_richests_people = pd.read_csv(\"/Users/borjauria/IRONHACK/Ironhack-Module-1-Project---The-best-ever-project/data/processed/borjauria_done.csv\")"
   ]
  },
  {
   "cell_type": "code",
   "execution_count": 12,
   "metadata": {},
   "outputs": [],
   "source": [
    "#Merge the two dataframes (Forbes and webscrapping)\n",
    "df_final = pd.merge(df_the_richests_people, final_df2, on='Name', how='left')"
   ]
  },
  {
   "cell_type": "code",
   "execution_count": 13,
   "metadata": {},
   "outputs": [],
   "source": [
    "df_final = df_final[['Real Time Position','Name','Age','Industry_x','From','Company','worth','Worth Change']]"
   ]
  },
  {
   "cell_type": "code",
   "execution_count": 18,
   "metadata": {},
   "outputs": [],
   "source": [
    "df_final.rename(columns={'Industry_x':'Industry'}, inplace=True)"
   ]
  },
  {
   "cell_type": "code",
   "execution_count": 21,
   "metadata": {},
   "outputs": [
    {
     "data": {
      "text/html": [
       "<div>\n",
       "<style scoped>\n",
       "    .dataframe tbody tr th:only-of-type {\n",
       "        vertical-align: middle;\n",
       "    }\n",
       "\n",
       "    .dataframe tbody tr th {\n",
       "        vertical-align: top;\n",
       "    }\n",
       "\n",
       "    .dataframe thead th {\n",
       "        text-align: right;\n",
       "    }\n",
       "</style>\n",
       "<table border=\"1\" class=\"dataframe\">\n",
       "  <thead>\n",
       "    <tr style=\"text-align: right;\">\n",
       "      <th></th>\n",
       "      <th>Real Time Position</th>\n",
       "      <th>Name</th>\n",
       "      <th>Age</th>\n",
       "      <th>Industry</th>\n",
       "      <th>From</th>\n",
       "      <th>Company</th>\n",
       "      <th>worth</th>\n",
       "      <th>Worth Change</th>\n",
       "    </tr>\n",
       "  </thead>\n",
       "  <tbody>\n",
       "    <tr>\n",
       "      <th>0</th>\n",
       "      <td>1.0</td>\n",
       "      <td>Jeff Bezos</td>\n",
       "      <td>54</td>\n",
       "      <td>Technology</td>\n",
       "      <td>United States</td>\n",
       "      <td>Amazon</td>\n",
       "      <td>112.0</td>\n",
       "      <td>0.0</td>\n",
       "    </tr>\n",
       "    <tr>\n",
       "      <th>1</th>\n",
       "      <td>2.0</td>\n",
       "      <td>Bill Gates</td>\n",
       "      <td>62</td>\n",
       "      <td>Technology</td>\n",
       "      <td>United States</td>\n",
       "      <td>Microsoft</td>\n",
       "      <td>90.0</td>\n",
       "      <td>-0.001</td>\n",
       "    </tr>\n",
       "    <tr>\n",
       "      <th>2</th>\n",
       "      <td>3.0</td>\n",
       "      <td>Warren Buffett</td>\n",
       "      <td>87</td>\n",
       "      <td>Finance and Investments</td>\n",
       "      <td>United States</td>\n",
       "      <td>Berkshire Hathaway</td>\n",
       "      <td>84.0</td>\n",
       "      <td>-0.002</td>\n",
       "    </tr>\n",
       "    <tr>\n",
       "      <th>3</th>\n",
       "      <td>4.0</td>\n",
       "      <td>Bernard Arnault</td>\n",
       "      <td>69</td>\n",
       "      <td>Fashion &amp; Retail</td>\n",
       "      <td>United States</td>\n",
       "      <td>LVMH</td>\n",
       "      <td>72.0</td>\n",
       "      <td>0.0</td>\n",
       "    </tr>\n",
       "    <tr>\n",
       "      <th>4</th>\n",
       "      <td>5.0</td>\n",
       "      <td>Mark Zuckerberg</td>\n",
       "      <td>33</td>\n",
       "      <td>Technology</td>\n",
       "      <td>United States</td>\n",
       "      <td>Facebook</td>\n",
       "      <td>71.0</td>\n",
       "      <td>0.0</td>\n",
       "    </tr>\n",
       "    <tr>\n",
       "      <th>...</th>\n",
       "      <td>...</td>\n",
       "      <td>...</td>\n",
       "      <td>...</td>\n",
       "      <td>...</td>\n",
       "      <td>...</td>\n",
       "      <td>...</td>\n",
       "      <td>...</td>\n",
       "      <td>...</td>\n",
       "    </tr>\n",
       "    <tr>\n",
       "      <th>2181</th>\n",
       "      <td>2134.0</td>\n",
       "      <td>Zhao Zhao</td>\n",
       "      <td>51</td>\n",
       "      <td>Fashion &amp; Retail</td>\n",
       "      <td>China</td>\n",
       "      <td>fashion, entertainment</td>\n",
       "      <td>1.0</td>\n",
       "      <td>0.0</td>\n",
       "    </tr>\n",
       "    <tr>\n",
       "      <th>2182</th>\n",
       "      <td>2134.0</td>\n",
       "      <td>Zhou Zhou</td>\n",
       "      <td>55</td>\n",
       "      <td>Manufacturing</td>\n",
       "      <td>China</td>\n",
       "      <td>electrical equipment</td>\n",
       "      <td>1.0</td>\n",
       "      <td></td>\n",
       "    </tr>\n",
       "    <tr>\n",
       "      <th>2183</th>\n",
       "      <td>1856.0</td>\n",
       "      <td>Zhu Zhu</td>\n",
       "      <td>51</td>\n",
       "      <td>Manufacturing</td>\n",
       "      <td>China</td>\n",
       "      <td>electrical equipment</td>\n",
       "      <td>1.0</td>\n",
       "      <td>0.0</td>\n",
       "    </tr>\n",
       "    <tr>\n",
       "      <th>2184</th>\n",
       "      <td>1978.0</td>\n",
       "      <td>Zhuo Zhuo</td>\n",
       "      <td>52</td>\n",
       "      <td>Manufacturing</td>\n",
       "      <td>China</td>\n",
       "      <td>printed circuit boards</td>\n",
       "      <td>1.0</td>\n",
       "      <td>0.0</td>\n",
       "    </tr>\n",
       "    <tr>\n",
       "      <th>2185</th>\n",
       "      <td>1978.0</td>\n",
       "      <td>Olgun Zorlu</td>\n",
       "      <td>54</td>\n",
       "      <td>Diversified</td>\n",
       "      <td>Turkey</td>\n",
       "      <td>diversified</td>\n",
       "      <td>1.0</td>\n",
       "      <td></td>\n",
       "    </tr>\n",
       "  </tbody>\n",
       "</table>\n",
       "<p>2186 rows × 8 columns</p>\n",
       "</div>"
      ],
      "text/plain": [
       "      Real Time Position             Name  Age                   Industry  \\\n",
       "0                    1.0       Jeff Bezos   54               Technology     \n",
       "1                    2.0       Bill Gates   62               Technology     \n",
       "2                    3.0   Warren Buffett   87  Finance and Investments     \n",
       "3                    4.0  Bernard Arnault   69         Fashion & Retail     \n",
       "4                    5.0  Mark Zuckerberg   33               Technology     \n",
       "...                  ...              ...  ...                        ...   \n",
       "2181              2134.0        Zhao Zhao   51         Fashion & Retail     \n",
       "2182              2134.0        Zhou Zhou   55            Manufacturing     \n",
       "2183              1856.0          Zhu Zhu   51            Manufacturing     \n",
       "2184              1978.0        Zhuo Zhuo   52            Manufacturing     \n",
       "2185              1978.0      Olgun Zorlu   54              Diversified     \n",
       "\n",
       "               From                 Company  worth Worth Change  \n",
       "0     United States                  Amazon  112.0        0.0    \n",
       "1     United States               Microsoft   90.0     -0.001    \n",
       "2     United States      Berkshire Hathaway   84.0     -0.002    \n",
       "3     United States                    LVMH   72.0        0.0    \n",
       "4     United States                Facebook   71.0        0.0    \n",
       "...             ...                     ...    ...          ...  \n",
       "2181          China  fashion, entertainment    1.0        0.0    \n",
       "2182          China    electrical equipment    1.0               \n",
       "2183          China    electrical equipment    1.0        0.0    \n",
       "2184          China  printed circuit boards    1.0        0.0    \n",
       "2185         Turkey             diversified    1.0               \n",
       "\n",
       "[2186 rows x 8 columns]"
      ]
     },
     "execution_count": 21,
     "metadata": {},
     "output_type": "execute_result"
    }
   ],
   "source": [
    "df_final"
   ]
  },
  {
   "cell_type": "code",
   "execution_count": 29,
   "metadata": {},
   "outputs": [
    {
     "data": {
      "image/png": "[encoded data removed]",
      "text/plain": [
       "<Figure size 432x288 with 1 Axes>"
      ]
     },
     "metadata": {},
     "output_type": "display_data"
    }
   ],
   "source": [
    "goal_types = 'Industry', 'From', 'Company'\n",
    "\n",
    "plt.pie(goals, labels = goal_types, colors=colors ,shadow = True, explode = (0.05, 0.05, 0.05), autopct = '%1.1f%%')\n",
    "plt.axis('equal')\n",
    "\n",
    "plt.show()"
   ]
  },
  {
   "cell_type": "code",
   "execution_count": null,
   "metadata": {},
   "outputs": [],
   "source": []
  }
 ],
 "metadata": {
  "kernelspec": {
   "display_name": "Python [conda env:project_env] *",
   "language": "python",
   "name": "conda-env-project_env-py"
  },
  "language_info": {
   "codemirror_mode": {
    "name": "ipython",
    "version": 3
   },
   "file_extension": ".py",
   "mimetype": "text/x-python",
   "name": "python",
   "nbconvert_exporter": "python",
   "pygments_lexer": "ipython3",
   "version": "3.7.5"
  }
 },
 "nbformat": 4,
 "nbformat_minor": 2
}
