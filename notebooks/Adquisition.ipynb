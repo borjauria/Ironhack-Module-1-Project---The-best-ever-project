{
 "cells": [
  {
   "cell_type": "markdown",
   "metadata": {},
   "source": [
    "# Adquisition"
   ]
  },
  {
   "cell_type": "markdown",
   "metadata": {},
   "source": [
    "In this jupyter I have created the connection to the database through SQLite3 and then I have made the appropriate queries to extract the data I am interested in."
   ]
  },
  {
   "cell_type": "code",
   "execution_count": 1,
   "metadata": {},
   "outputs": [],
   "source": [
    "import sqlite3"
   ]
  },
  {
   "cell_type": "code",
   "execution_count": null,
   "metadata": {},
   "outputs": [],
   "source": [
    "#Create a conection to bbdd throught SQLite\n",
    "conex = sqlite3.connect(\"/Users/borjauria/IRONHACK/Ironhack-Module-1-Project---The-best-ever-project/data/raw/borjauria.db\")\n",
    "\n",
    "#Extracts the query data directly to a DataFrame\n",
    "personal_info = pd.read_sql_query(\"SELECT * from personal_info\", conex)\n",
    "business_info = pd.read_sql_query(\"SELECT * from business_info\", conex)\n",
    "rank_info = pd.read_sql_query(\"SELECT * from rank_info\", conex)"
   ]
  }
 ],
 "metadata": {
  "kernelspec": {
   "display_name": "Python [conda env:project_env] *",
   "language": "python",
   "name": "conda-env-project_env-py"
  },
  "language_info": {
   "codemirror_mode": {
    "name": "ipython",
    "version": 3
   },
   "file_extension": ".py",
   "mimetype": "text/x-python",
   "name": "python",
   "nbconvert_exporter": "python",
   "pygments_lexer": "ipython3",
   "version": "3.7.5"
  }
 },
 "nbformat": 4,
 "nbformat_minor": 2
}
