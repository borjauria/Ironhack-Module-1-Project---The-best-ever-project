{
 "cells": [
  {
   "cell_type": "code",
   "execution_count": null,
   "metadata": {},
   "outputs": [],
   "source": [
    "import pandas as pd\n",
    "import matplotlib\n",
    "import matplotlib.pyplot as plt\n",
    "import numpy as np\n",
    "\n",
    "colors = ['yellowgreen', 'gold', 'orangered','skyblue', 'grey', 'black', 'navy']\n",
    "\n",
    "df = pd.read_csv('df')\n",
    "\n",
    "def reporting(df):\n",
    "    df['From'].value_counts()[:25].plot(kind='bar', width=0.8, figsize=(20,10), color = colors)\n",
    "    plt.xlabel('Country (Top 25)')\n",
    "    plt.ylabel('Number of billionaires')\n",
    "    plt.title('Number of billionaires per country')\n",
    "    return plt.savefig('../data/results/billionaires_per_country.png')"
   ]
  }
 ],
 "metadata": {
  "kernelspec": {
   "display_name": "ironhack_env",
   "language": "python",
   "name": "ironhack_env"
  },
  "language_info": {
   "codemirror_mode": {
    "name": "ipython",
    "version": 3
   },
   "file_extension": ".py",
   "mimetype": "text/x-python",
   "name": "python",
   "nbconvert_exporter": "python",
   "pygments_lexer": "ipython3",
   "version": "3.7.5"
  }
 },
 "nbformat": 4,
 "nbformat_minor": 2
}
